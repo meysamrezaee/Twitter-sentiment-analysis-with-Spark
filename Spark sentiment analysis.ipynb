{
 "cells": [
  {
   "cell_type": "raw",
   "metadata": {},
   "source": [
    "Data from:\n",
    "https://www.kaggle.com/kazanova/sentiment140"
   ]
  },
  {
   "cell_type": "code",
   "execution_count": 1,
   "metadata": {},
   "outputs": [],
   "source": [
    "from pyspark.sql import SparkSession\n",
    "spark = SparkSession.builder.appName('TweetSentiment').getOrCreate()"
   ]
  },
  {
   "cell_type": "code",
   "execution_count": 2,
   "metadata": {},
   "outputs": [],
   "source": [
    "from pyspark.ml.regression import LinearRegression\n",
    "from pyspark.ml.classification import LogisticRegression"
   ]
  },
  {
   "cell_type": "code",
   "execution_count": 3,
   "metadata": {},
   "outputs": [
    {
     "name": "stdout",
     "output_type": "stream",
     "text": [
      "root\n",
      " |-- _c0: integer (nullable = true)\n",
      " |-- _c1: long (nullable = true)\n",
      " |-- _c2: string (nullable = true)\n",
      " |-- _c3: string (nullable = true)\n",
      " |-- _c4: string (nullable = true)\n",
      " |-- _c5: string (nullable = true)\n",
      "\n"
     ]
    }
   ],
   "source": [
    "df = spark.read.csv('../Datasets/Sentiment140.csv', inferSchema=True, header=False)\n",
    "df.printSchema()"
   ]
  },
  {
   "cell_type": "code",
   "execution_count": 4,
   "metadata": {},
   "outputs": [
    {
     "name": "stdout",
     "output_type": "stream",
     "text": [
      "root\n",
      " |-- sentiment: integer (nullable = true)\n",
      " |-- id: string (nullable = true)\n",
      " |-- date: string (nullable = true)\n",
      " |-- flag: string (nullable = true)\n",
      " |-- user: string (nullable = true)\n",
      " |-- text: string (nullable = true)\n",
      "\n"
     ]
    }
   ],
   "source": [
    "from pyspark.sql.types import StructType, StructField, IntegerType, StringType\n",
    "table_schema = StructType([\n",
    "    StructField(\"sentiment\", IntegerType(), True),\n",
    "    StructField(\"id\", StringType(), True),\n",
    "    StructField(\"date\", StringType(), True),\n",
    "    StructField(\"flag\", StringType(), True),\n",
    "    StructField(\"user\", StringType(), True),\n",
    "    StructField(\"text\", StringType(), True)\n",
    "])\n",
    "df = spark.read.csv('../Datasets/Sentiment140.csv', inferSchema=False, header=False, schema=table_schema)\n",
    "df.printSchema()"
   ]
  },
  {
   "cell_type": "code",
   "execution_count": 5,
   "metadata": {},
   "outputs": [],
   "source": [
    "df = df.drop(*['id', 'date', 'flag', 'user'])"
   ]
  },
  {
   "cell_type": "code",
   "execution_count": 6,
   "metadata": {},
   "outputs": [
    {
     "name": "stdout",
     "output_type": "stream",
     "text": [
      "+---------+--------------------+\n",
      "|sentiment|                text|\n",
      "+---------+--------------------+\n",
      "|        0|@switchfoot http:...|\n",
      "|        0|is upset that he ...|\n",
      "|        0|@Kenichan I dived...|\n",
      "|        0|my whole body fee...|\n",
      "|        0|@nationwideclass ...|\n",
      "|        0|@Kwesidei not the...|\n",
      "|        0|         Need a hug |\n",
      "|        0|@LOLTrish hey  lo...|\n",
      "|        0|@Tatiana_K nope t...|\n",
      "|        0|@twittera que me ...|\n",
      "+---------+--------------------+\n",
      "only showing top 10 rows\n",
      "\n"
     ]
    }
   ],
   "source": [
    "df.show(10)"
   ]
  },
  {
   "cell_type": "code",
   "execution_count": 7,
   "metadata": {},
   "outputs": [
    {
     "name": "stdout",
     "output_type": "stream",
     "text": [
      "+---------+----+\n",
      "|sentiment|text|\n",
      "+---------+----+\n",
      "|        0|   0|\n",
      "+---------+----+\n",
      "\n"
     ]
    }
   ],
   "source": [
    "# Number of missing values\n",
    "from pyspark.sql.functions import isnan, when, count, col\n",
    "df.select([count(when(isnan(c), c)).alias(c) for c in df.columns]).show()"
   ]
  },
  {
   "cell_type": "code",
   "execution_count": 8,
   "metadata": {},
   "outputs": [
    {
     "name": "stdout",
     "output_type": "stream",
     "text": [
      "+---------+\n",
      "|sentiment|\n",
      "+---------+\n",
      "|        2|\n",
      "+---------+\n",
      "\n"
     ]
    },
    {
     "data": {
      "text/plain": [
       "[Row(sentiment=4), Row(sentiment=0)]"
      ]
     },
     "execution_count": 8,
     "metadata": {},
     "output_type": "execute_result"
    }
   ],
   "source": [
    "# How many values in the class? show them\n",
    "from pyspark.sql.functions import col, countDistinct\n",
    "df.agg(countDistinct(col(\"sentiment\")).alias(\"sentiment\")).show()\n",
    "df.select('sentiment').distinct().collect()"
   ]
  },
  {
   "cell_type": "code",
   "execution_count": 9,
   "metadata": {},
   "outputs": [],
   "source": [
    "df.createOrReplaceTempView('tweets')"
   ]
  },
  {
   "cell_type": "code",
   "execution_count": 10,
   "metadata": {},
   "outputs": [
    {
     "name": "stdout",
     "output_type": "stream",
     "text": [
      "+------+\n",
      "| zeros|\n",
      "+------+\n",
      "|800000|\n",
      "+------+\n",
      "\n",
      "+------+\n",
      "| fours|\n",
      "+------+\n",
      "|800000|\n",
      "+------+\n",
      "\n"
     ]
    }
   ],
   "source": [
    "spark.sql('select count(*) as zeros from tweets where sentiment = 0').show()\n",
    "spark.sql('select count(*) as fours from tweets where sentiment = 4').show()"
   ]
  },
  {
   "cell_type": "code",
   "execution_count": 11,
   "metadata": {},
   "outputs": [],
   "source": [
    "(df_train, df_test) = df.randomSplit([0.9, 0.1], seed = 2)"
   ]
  },
  {
   "cell_type": "markdown",
   "metadata": {},
   "source": [
    "#### RegexTokenizer: \n",
    "More advanced version of Tokenizer that allows regular expressions\n",
    "#### CountVectorizer: \n",
    "converts a collection of text documents (rows) to vectors of token counts (count of each word in the sample) which is stored in a dictionary like {word1_index: 1, word2_index: 3, word3_index: 1}\n",
    "#### IDF: \n",
    "Reduces the effect of popular words since they usually carry little information about the document like “a”, “the”\n"
   ]
  },
  {
   "cell_type": "code",
   "execution_count": 12,
   "metadata": {},
   "outputs": [
    {
     "name": "stdout",
     "output_type": "stream",
     "text": [
      "Training time: 69.3951\n"
     ]
    }
   ],
   "source": [
    "from pyspark.ml.feature import CountVectorizer\n",
    "from pyspark.ml.feature import HashingTF, IDF, Tokenizer, RegexTokenizer\n",
    "from pyspark.ml.feature import StringIndexer\n",
    "from pyspark.ml.classification import NaiveBayes\n",
    "from pyspark.ml.classification import LinearSVC\n",
    "from pyspark.ml.classification import RandomForestClassifier\n",
    "from pyspark.ml.classification import GBTClassifier\n",
    "from pyspark.ml import Pipeline\n",
    "import datetime\n",
    "tokenizer = RegexTokenizer(inputCol=\"text\", outputCol=\"words\", pattern=\"@\\S+|https?:\\S+|http?:\\S|[^A-Za-z0-9]+\")\n",
    "cv = CountVectorizer(vocabSize=2**14, inputCol=tokenizer.getOutputCol(), outputCol='cv')\n",
    "idf = IDF(inputCol=cv.getOutputCol(), outputCol=\"features\", minDocFreq=3)\n",
    "prepare_label = StringIndexer(inputCol = \"sentiment\", outputCol = \"label\")\n",
    "#model = LogisticRegression(maxIter=100, regParam=0.01, elasticNetParam=0.0)\n",
    "model = LinearSVC(maxIter=10, regParam=0.0)\n",
    "#model = NaiveBayes(smoothing=1.0)\n",
    "#model = RandomForestClassifier(numTrees=100)\n",
    "\n",
    "before_training = datetime.datetime.now()\n",
    "\n",
    "pipeline = Pipeline(stages=[tokenizer, cv, idf, prepare_label, model])\n",
    "pipe_fit = pipeline.fit(df_train)\n",
    "df_train2 = pipe_fit.transform(df_train)\n",
    "\n",
    "elapsed = datetime.datetime.now() - before_training\n",
    "print('Training time:', elapsed.total_seconds())"
   ]
  },
  {
   "cell_type": "code",
   "execution_count": 13,
   "metadata": {},
   "outputs": [
    {
     "data": {
      "text/plain": [
       "0.8683574807371182"
      ]
     },
     "execution_count": 13,
     "metadata": {},
     "output_type": "execute_result"
    }
   ],
   "source": [
    "from pyspark.ml.evaluation import BinaryClassificationEvaluator\n",
    "df_test2 = pipe_fit.transform(df_test)\n",
    "evaluator = BinaryClassificationEvaluator(rawPredictionCol=\"rawPrediction\")\n",
    "evaluator.evaluate(df_test2)"
   ]
  },
  {
   "cell_type": "code",
   "execution_count": 14,
   "metadata": {},
   "outputs": [
    {
     "data": {
      "image/png": "[encoded data removed]",
      "text/plain": [
       "<Figure size 504x504 with 1 Axes>"
      ]
     },
     "metadata": {
      "needs_background": "light"
     },
     "output_type": "display_data"
    }
   ],
   "source": [
    "import matplotlib.pyplot as plt\n",
    "import pandas as pd\n",
    "plt.figure(figsize=(7, 7))\n",
    "plt.title('Training Time of algorithms', size=15)\n",
    "df_time = pd.DataFrame([['LR', 83], ['SVM', 58], ['NB', 42], ['RF', 740]], columns=['Algorithm', 'TrainingTime'])\n",
    "plt.bar(df_time.Algorithm, df_time.TrainingTime)\n",
    "plt.show()"
   ]
  },
  {
   "cell_type": "code",
   "execution_count": 15,
   "metadata": {},
   "outputs": [
    {
     "data": {
      "image/png": "[encoded data removed]",
      "text/plain": [
       "<Figure size 504x504 with 1 Axes>"
      ]
     },
     "metadata": {
      "needs_background": "light"
     },
     "output_type": "display_data"
    }
   ],
   "source": [
    "plt.figure(figsize=(7, 7))\n",
    "plt.title('Accuracy of algorithms', size=15)\n",
    "df_accuracy = pd.DataFrame([['LR', .869], ['SVM', .868], ['NB', .480], ['RF', .778]], columns=['Algorithm', 'Accuracy'])\n",
    "plt.bar(df_accuracy.Algorithm, df_accuracy.Accuracy)\n",
    "plt.show()"
   ]
  },
  {
   "cell_type": "markdown",
   "metadata": {},
   "source": [
    "# Results:\n",
    "#### Accuracy: \n",
    "LogisticRegression and LinearSVC achieved the highest accuracy, 87%\n",
    "#### Training time: \n",
    "The least training time of 42 seconds was achieved by Naive Bayes, and the highest was reached by Random forest (740 seconds). LinearSVC was trained in 58 seconds, and LogisticRegression in 83.\n",
    "#### Deployment: \n",
    "The extremely low accuracy of Naive Bayes makes it useless, and the high training time of random forest makes it costly to train, and considering that its accuracy is lower than that of Logistic regression and Linear SVC, it will not be considered for deployment. The clear choices are either Linear SVC or Logistic regression."
   ]
  }
 ],
 "metadata": {
  "kernelspec": {
   "display_name": "Python 3",
   "language": "python",
   "name": "python3"
  },
  "language_info": {
   "codemirror_mode": {
    "name": "ipython",
    "version": 3
   },
   "file_extension": ".py",
   "mimetype": "text/x-python",
   "name": "python",
   "nbconvert_exporter": "python",
   "pygments_lexer": "ipython3",
   "version": "3.7.9"
  }
 },
 "nbformat": 4,
 "nbformat_minor": 4
}
